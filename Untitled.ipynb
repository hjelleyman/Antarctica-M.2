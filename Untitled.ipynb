{
 "cells": [
  {
   "cell_type": "code",
   "execution_count": 10,
   "metadata": {},
   "outputs": [],
   "source": [
    "text = 'SVTRLJV WLTB PFL KYRKJ NYP'"
   ]
  },
  {
   "cell_type": "code",
   "execution_count": 11,
   "metadata": {},
   "outputs": [],
   "source": [
    "LETTERS = 'ABCDEFGHIJKLMNOPQRSTUVWXYZ'\n",
    "        "
   ]
  },
  {
   "cell_type": "code",
   "execution_count": 12,
   "metadata": {},
   "outputs": [
    {
     "name": "stdout",
     "output_type": "stream",
     "text": [
      "Hacking key #0: SVTRLJV WLTB PFL KYRKJ NYP\n",
      "Hacking key #1: RUSQKIU VKSA OEK JXQJI MXO\n",
      "Hacking key #2: QTRPJHT UJRZ NDJ IWPIH LWN\n",
      "Hacking key #3: PSQOIGS TIQY MCI HVOHG KVM\n",
      "Hacking key #4: ORPNHFR SHPX LBH GUNGF JUL\n",
      "Hacking key #5: NQOMGEQ RGOW KAG FTMFE ITK\n",
      "Hacking key #6: MPNLFDP QFNV JZF ESLED HSJ\n",
      "Hacking key #7: LOMKECO PEMU IYE DRKDC GRI\n",
      "Hacking key #8: KNLJDBN ODLT HXD CQJCB FQH\n",
      "Hacking key #9: JMKICAM NCKS GWC BPIBA EPG\n",
      "Hacking key #10: ILJHBZL MBJR FVB AOHAZ DOF\n",
      "Hacking key #11: HKIGAYK LAIQ EUA ZNGZY CNE\n",
      "Hacking key #12: GJHFZXJ KZHP DTZ YMFYX BMD\n",
      "Hacking key #13: FIGEYWI JYGO CSY XLEXW ALC\n",
      "Hacking key #14: EHFDXVH IXFN BRX WKDWV ZKB\n",
      "Hacking key #15: DGECWUG HWEM AQW VJCVU YJA\n",
      "Hacking key #16: CFDBVTF GVDL ZPV UIBUT XIZ\n",
      "Hacking key #17: BECAUSE FUCK YOU THATS WHY\n",
      "Hacking key #18: ADBZTRD ETBJ XNT SGZSR VGX\n",
      "Hacking key #19: ZCAYSQC DSAI WMS RFYRQ UFW\n",
      "Hacking key #20: YBZXRPB CRZH VLR QEXQP TEV\n",
      "Hacking key #21: XAYWQOA BQYG UKQ PDWPO SDU\n",
      "Hacking key #22: WZXVPNZ APXF TJP OCVON RCT\n",
      "Hacking key #23: VYWUOMY ZOWE SIO NBUNM QBS\n",
      "Hacking key #24: UXVTNLX YNVD RHN MATML PAR\n",
      "Hacking key #25: TWUSMKW XMUC QGM LZSLK OZQ\n"
     ]
    }
   ],
   "source": [
    "for key in range(len(LETTERS)):\n",
    "    translated = ''\n",
    "    for symbol in text:\n",
    "        if symbol in LETTERS:\n",
    "            num = LETTERS.find(symbol)\n",
    "            num = num - key\n",
    "            if num < 0:\n",
    "                num = num + len(LETTERS)\n",
    "            translated = translated + LETTERS[num]\n",
    "        else:\n",
    "            translated = translated + symbol\n",
    "    print('Hacking key #%s: %s' % (key, translated))"
   ]
  },
  {
   "cell_type": "code",
   "execution_count": null,
   "metadata": {},
   "outputs": [],
   "source": [
    "message = ''\n"
   ]
  }
 ],
 "metadata": {
  "kernelspec": {
   "display_name": "Python 3",
   "language": "python",
   "name": "python3"
  },
  "language_info": {
   "name": ""
  }
 },
 "nbformat": 4,
 "nbformat_minor": 4
}
