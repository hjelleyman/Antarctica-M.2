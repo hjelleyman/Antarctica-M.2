{
 "cells": [
  {
   "cell_type": "markdown",
   "metadata": {},
   "source": [
    "# Introduction\n",
    "\n",
    "Last week we made a connection between temperature and Antarctic seaice.\n",
    "This week we want to answer a few questions:\n",
    "\n",
    "    1) How are the different temperatures measured?\n",
    "    \n",
    "        a) What are the differences between the different temperatures?\n",
    "        b) Is temperature meausred in the same way as Sea Ice?\n",
    "        c) If the answers to the above are satisfactory, can we justify temperature causing ice to melt.\n",
    "        d) Can we validate temperature using data from argo floats and station data?\n",
    "        \n",
    "    2) Can we predict Temperature using other variables? \n",
    "            - NB we made a start at this last week but want to formalise it more.\n",
    "        \n",
    "        a) Radiation: LW/SW net/outgoing. (By extention cloud cover)\n",
    "        b) Ozone concentration.\n",
    "        b) Climate Indicies: We have a range to look at, but we are interested in SAM and IPO.\n",
    "        c) Environmental variables: wind speed surface pressure and the like.\n",
    "        \n",
    "These other variables may be related to each other and we will need to keep this in mind as we go about our analysis.\n",
    "\n",
    "To begin with, I will include some notes on Question 1 in Markdown at the start of this notebook, along with any related calculations. This will be followed up by related calculations and results for Question 2. If things get too complicated or messy I will make an external latex document to accompany these results."
   ]
  },
  {
   "cell_type": "code",
   "execution_count": 5,
   "metadata": {},
   "outputs": [
    {
     "name": "stdout",
     "output_type": "stream",
     "text": [
      "The autoreload extension is already loaded. To reload it, use:\n",
      "  %reload_ext autoreload\n"
     ]
    }
   ],
   "source": [
    "%run import.py\n",
    "%load_ext autoreload\n",
    "%autoreload 2"
   ]
  },
  {
   "cell_type": "markdown",
   "metadata": {},
   "source": [
    "# 1 Validation of Temperature "
   ]
  },
  {
   "cell_type": "markdown",
   "metadata": {},
   "source": [
    "## Description of Different Temperatures\n",
    "\n",
    "### Sea Surface Temperature\n",
    "\n",
    "[Description from documentation](https://apps.ecmwf.int/codes/grib/param-db?id=34): This is caclulated from a variety of sources including satilites and sometimes data from [NEMO forecasts](https://www.nemo-ocean.eu/).\n",
    "\n",
    "One issue we have with SST is that we are unsure how data is derrived for SST when ice is covering the ocean. we'll investigate this shortly to check that we have data at this time. [This report](https://www.ecmwf.int/en/elibrary/16555-sea-surface-temperature-and-sea-ice-concentration-era5) seemed relevant but on reading it I'm not sure if it answers our question. (Including it still because it has useful information about SST and SIC from different sources). **This question remains unanswered as of yet**\n",
    "\n",
    "\"The ENS system evolves the SST and sea ice using the NEMO model\" is quoted from page 161 of [this report](https://www.ecmwf.int/sites/default/files/elibrary/2016/17117-part-iv-physical-processes.pdf). \n",
    "\n",
    "### 2m Temperature\n",
    "\n",
    "[Description from documentation](https://apps.ecmwf.int/codes/grib/param-db?id=167): 2m temperature is calculated by interpolating between the lowest model level and the Earth's surface, taking account of the atmospheric conditions.\n",
    "\n",
    "### Skin Temperature\n",
    "\n",
    "[Description from documentation](https://apps.ecmwf.int/codes/grib/param-db?id=235): The skin temperature is the theoretical temperature that is required to satisfy the surface energy balance. It represents the temperature of the uppermost surface layer, which has no heat capacity and so can respond instantaneously to changes in surface fluxes. Skin temperature is calculated differently over land and sea.\n",
    "\n",
    "\"The ENS system evolves the SST and sea ice using the NEMO model\"\n",
    "\n",
    "### Additional Comments\n",
    "\n",
    "It appears that 2m temperaure is an interpolation from skin temperature, which makes it unsurprising that the 2 variables are significantly similar.\n",
    "\n",
    "test\n",
    "\n",
    "\n"
   ]
  },
  {
   "cell_type": "code",
   "execution_count": 8,
   "metadata": {},
   "outputs": [],
   "source": [
    "# Checking SST when ice is covering"
   ]
  }
 ],
 "metadata": {
  "kernelspec": {
   "display_name": "Python 3",
   "language": "python",
   "name": "python3"
  },
  "language_info": {
   "codemirror_mode": {
    "name": "ipython",
    "version": 3
   },
   "file_extension": ".py",
   "mimetype": "text/x-python",
   "name": "python",
   "nbconvert_exporter": "python",
   "pygments_lexer": "ipython3",
   "version": "3.8.5"
  }
 },
 "nbformat": 4,
 "nbformat_minor": 4
}
