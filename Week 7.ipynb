{
 "cells": [
  {
   "cell_type": "markdown",
   "metadata": {},
   "source": [
    "# Introduction\n",
    "\n",
    "Last week we made a connection between temperature and Antarctic seaice.\n",
    "This week we want to answer a few questions:\n",
    "\n",
    "    1) How are the different temperatures measured?\n",
    "    \n",
    "        a) What are the differences between the different temperatures?\n",
    "        b) Is temperature meausred in the same way as Sea Ice?\n",
    "        c) If the answers to the above are satisfactory, can we justify temperature causing ice to melt.\n",
    "        d) Can we validate temperature using data from argo floats and station data?\n",
    "        \n",
    "    2) Can we predict Temperature using other variables? \n",
    "            - NB we made a start at this last week but want to formalise it more.\n",
    "        \n",
    "        a) Radiation: LW/SW net/outgoing. (By extention cloud cover)\n",
    "        b) Ozone concentration.\n",
    "        b) Climate Indicies: We have a range to look at, but we are interested in SAM and IPO.\n",
    "        c) Environmental variables: wind speed surface pressure and the like.\n",
    "        \n",
    "These other variables may be related to each other and we will need to keep this in mind as we go about our analysis.\n",
    "\n",
    "To begin with, I will include some notes on Question 1 in Markdown at the start of this notebook, along with any related calculations. This will be followed up by related calculations and results for Question 2. If things get too complicated or messy I will make an external latex document to accompany these results.\n",
    "\n",
    "Additionally I want to make sure I acquire "
   ]
  },
  {
   "cell_type": "code",
   "execution_count": 1,
   "metadata": {},
   "outputs": [
    {
     "ename": "ModuleNotFoundError",
     "evalue": "No module named 'sklearn'",
     "output_type": "error",
     "traceback": [
      "\u001b[1;31m---------------------------------------------------------------------------\u001b[0m",
      "\u001b[1;31mModuleNotFoundError\u001b[0m                       Traceback (most recent call last)",
      "\u001b[1;32mD:\\Github Desktop\\Antarctica-M.2\\import.py\u001b[0m in \u001b[0;36m<module>\u001b[1;34m\u001b[0m\n\u001b[0;32m     27\u001b[0m \u001b[1;31m#       The modules folder contains a number of scripts written for\u001b[0m\u001b[1;33m\u001b[0m\u001b[1;33m\u001b[0m\u001b[1;33m\u001b[0m\u001b[0m\n\u001b[0;32m     28\u001b[0m \u001b[1;31m#       different parts of this project.\u001b[0m\u001b[1;33m\u001b[0m\u001b[1;33m\u001b[0m\u001b[1;33m\u001b[0m\u001b[0m\n\u001b[1;32m---> 29\u001b[1;33m \u001b[1;32mfrom\u001b[0m \u001b[0mmodules\u001b[0m \u001b[1;32mimport\u001b[0m \u001b[1;33m*\u001b[0m\u001b[1;33m\u001b[0m\u001b[1;33m\u001b[0m\u001b[0m\n\u001b[0m",
      "\u001b[1;32mD:\\Github Desktop\\Antarctica-M.2\\modules\\__init__.py\u001b[0m in \u001b[0;36m<module>\u001b[1;34m\u001b[0m\n\u001b[0;32m     10\u001b[0m \u001b[1;32mfrom\u001b[0m \u001b[0mmodules\u001b[0m \u001b[1;32mimport\u001b[0m \u001b[0mweek2\u001b[0m          \u001b[1;32mas\u001b[0m \u001b[0mw2\u001b[0m\u001b[1;33m\u001b[0m\u001b[1;33m\u001b[0m\u001b[0m\n\u001b[0;32m     11\u001b[0m \u001b[1;32mfrom\u001b[0m \u001b[0mmodules\u001b[0m \u001b[1;32mimport\u001b[0m \u001b[0mweek3\u001b[0m          \u001b[1;32mas\u001b[0m \u001b[0mw3\u001b[0m\u001b[1;33m\u001b[0m\u001b[1;33m\u001b[0m\u001b[0m\n\u001b[1;32m---> 12\u001b[1;33m \u001b[1;32mfrom\u001b[0m \u001b[0mmodules\u001b[0m \u001b[1;32mimport\u001b[0m \u001b[0mweek4\u001b[0m          \u001b[1;32mas\u001b[0m \u001b[0mw4\u001b[0m\u001b[1;33m\u001b[0m\u001b[1;33m\u001b[0m\u001b[0m\n\u001b[0m\u001b[0;32m     13\u001b[0m \u001b[1;32mfrom\u001b[0m \u001b[0mmodules\u001b[0m \u001b[1;32mimport\u001b[0m \u001b[0mweek5\u001b[0m          \u001b[1;32mas\u001b[0m \u001b[0mw5\u001b[0m\u001b[1;33m\u001b[0m\u001b[1;33m\u001b[0m\u001b[0m\n\u001b[0;32m     14\u001b[0m \u001b[1;32mfrom\u001b[0m \u001b[0mmodules\u001b[0m \u001b[1;32mimport\u001b[0m \u001b[0mweek7\u001b[0m          \u001b[1;32mas\u001b[0m \u001b[0mw7\u001b[0m\u001b[1;33m\u001b[0m\u001b[1;33m\u001b[0m\u001b[0m\n",
      "\u001b[1;32mD:\\Github Desktop\\Antarctica-M.2\\modules\\week4.py\u001b[0m in \u001b[0;36m<module>\u001b[1;34m\u001b[0m\n\u001b[0;32m    187\u001b[0m         \u001b[1;32mreturn\u001b[0m \u001b[0mdata\u001b[0m\u001b[1;33m\u001b[0m\u001b[1;33m\u001b[0m\u001b[0m\n\u001b[0;32m    188\u001b[0m \u001b[1;33m\u001b[0m\u001b[0m\n\u001b[1;32m--> 189\u001b[1;33m \u001b[1;32mfrom\u001b[0m \u001b[0msklearn\u001b[0m\u001b[1;33m.\u001b[0m\u001b[0mlinear_model\u001b[0m \u001b[1;32mimport\u001b[0m \u001b[0mLinearRegression\u001b[0m\u001b[1;33m\u001b[0m\u001b[1;33m\u001b[0m\u001b[0m\n\u001b[0m\u001b[0;32m    190\u001b[0m \u001b[1;32mdef\u001b[0m \u001b[0mmultiple_fast_regression\u001b[0m\u001b[1;33m(\u001b[0m\u001b[0mdata\u001b[0m\u001b[1;33m,\u001b[0m \u001b[0mdependant\u001b[0m\u001b[1;33m,\u001b[0m \u001b[0mindependant\u001b[0m\u001b[1;33m)\u001b[0m\u001b[1;33m:\u001b[0m\u001b[1;33m\u001b[0m\u001b[1;33m\u001b[0m\u001b[0m\n\u001b[0;32m    191\u001b[0m \t\"\"\"\n",
      "\u001b[1;31mModuleNotFoundError\u001b[0m: No module named 'sklearn'"
     ]
    }
   ],
   "source": [
    "%run import.py\n",
    "%load_ext autoreload\n",
    "%autoreload 2"
   ]
  },
  {
   "cell_type": "markdown",
   "metadata": {},
   "source": [
    "# 1 Validation of Temperature "
   ]
  },
  {
   "cell_type": "markdown",
   "metadata": {},
   "source": [
    "## Description of Different Temperatures\n",
    "\n",
    "### Sea Surface Temperature\n",
    "\n",
    "[Description from documentation](https://apps.ecmwf.int/codes/grib/param-db?id=34): This is caclulated from a variety of sources including satilites and sometimes data from [NEMO forecasts](https://www.nemo-ocean.eu/).\n",
    "\n",
    "One issue we have with SST is that we are unsure how data is derrived for SST when ice is covering the ocean. we'll investigate this shortly to check that we have data at this time. [This report](https://www.ecmwf.int/en/elibrary/16555-sea-surface-temperature-and-sea-ice-concentration-era5) seemed relevant but on reading it I'm not sure if it answers our question. (Including it still because it has useful information about SST and SIC from different sources). **This question remains unanswered as of yet**\n",
    "\n",
    "\"The ENS system evolves the SST and sea ice using the NEMO model\" is quoted from page 161 of [this report](https://www.ecmwf.int/sites/default/files/elibrary/2016/17117-part-iv-physical-processes.pdf). I think what this means is that the NEMO model is used to calculate SST when there is seaice cover.\n",
    "\n",
    "\"The ocean skin temperature is not always the same as the bulk SST. A very shallow layer (less then 1\n",
    "mm thick) is cooler because of the turbulent and long wave radiative heat loss to the atmosphere which\n",
    "has to be compensated for by the inefficient molecular transport in the water skin. Solar radiation has\n",
    "only a small effect on the cool skin because the solar absorption in such a thin layer is small. However,\n",
    "at low winds, solar radiation can create a so-called warm layer with a depth of a few metres\"\n",
    "\n",
    "### 2m Temperature\n",
    "\n",
    "[Description from documentation](https://apps.ecmwf.int/codes/grib/param-db?id=167): 2m temperature is calculated by interpolating between the lowest model level and the Earth's surface, taking account of the atmospheric conditions.\n",
    "\n",
    "### Skin Temperature\n",
    "\n",
    "[Description from documentation](https://apps.ecmwf.int/codes/grib/param-db?id=235): The skin temperature is the theoretical temperature that is required to satisfy the surface energy balance. It represents the temperature of the uppermost surface layer, which has no heat capacity and so can respond instantaneously to changes in surface fluxes. Skin temperature is calculated differently over land and sea. \n",
    "\n",
    "I believe this would be the temperature above seaice where it exists.\n",
    "\n",
    "The skin temperature is calculated through a surface energy balance between the ground and atmosphere. This is quite technical so I don't quite understand this yet.\n",
    "\n",
    "### Additional Comments\n",
    "\n",
    "It appears that 2m temperaure is an interpolation from skin temperature, which makes it unsurprising that the 2 variables are significantly similar.\n",
    "\n",
    "Skin temperature is calculated seperately over land and sea. It will be similar to SST (but not identical) where there is open ocean and it will be different where there is ice).\n",
    "\n",
    "We do need to be careful here with comparing temperature and seaice. Where there is seaice, ERA5 calculates seaice at the same time as SST. Additionally seaice is based on similar satillite products as skin temperature and by extenstion SST. Regardless we do have a physical motivation for seaice to be affected by temperature."
   ]
  },
  {
   "cell_type": "code",
   "execution_count": 2,
   "metadata": {},
   "outputs": [
    {
     "ename": "NameError",
     "evalue": "name 'w7' is not defined",
     "output_type": "error",
     "traceback": [
      "\u001b[1;31m---------------------------------------------------------------------------\u001b[0m",
      "\u001b[1;31mNameError\u001b[0m                                 Traceback (most recent call last)",
      "\u001b[1;32m<ipython-input-2-adbe3dd8bea7>\u001b[0m in \u001b[0;36m<module>\u001b[1;34m\u001b[0m\n\u001b[0;32m      2\u001b[0m \u001b[1;33m\u001b[0m\u001b[0m\n\u001b[0;32m      3\u001b[0m \u001b[1;31m# Load the two datasets\u001b[0m\u001b[1;33m\u001b[0m\u001b[1;33m\u001b[0m\u001b[1;33m\u001b[0m\u001b[0m\n\u001b[1;32m----> 4\u001b[1;33m \u001b[0mdata\u001b[0m \u001b[1;33m=\u001b[0m \u001b[0mw7\u001b[0m\u001b[1;33m.\u001b[0m\u001b[0mload_sst_sic\u001b[0m\u001b[1;33m(\u001b[0m\u001b[1;33m)\u001b[0m\u001b[1;33m\u001b[0m\u001b[1;33m\u001b[0m\u001b[0m\n\u001b[0m\u001b[0;32m      5\u001b[0m \u001b[1;33m\u001b[0m\u001b[0m\n\u001b[0;32m      6\u001b[0m \u001b[1;31m# select locations where there is seaice.\u001b[0m\u001b[1;33m\u001b[0m\u001b[1;33m\u001b[0m\u001b[1;33m\u001b[0m\u001b[0m\n",
      "\u001b[1;31mNameError\u001b[0m: name 'w7' is not defined"
     ]
    }
   ],
   "source": [
    "# Checking SST has data when ice is covering\n",
    "\n",
    "# Load the two datasets\n",
    "data = w7.load_sst_sic()\n",
    "\n",
    "# select locations where there is seaice.\n",
    "# pick some at random and make timeseries plots\n",
    "w7.select_over_ice_and_plot(data,5)"
   ]
  },
  {
   "cell_type": "markdown",
   "metadata": {},
   "source": [
    "### Validating temperature between datasets\n",
    "\n",
    "In order to validate temperature we want to compare the ERA5 data to data from other sources. SST will be verrified against the argo data (need to find where to access this agian).\n",
    "\n",
    "#### Validating SST Data with ARGO data"
   ]
  },
  {
   "cell_type": "code",
   "execution_count": null,
   "metadata": {},
   "outputs": [],
   "source": [
    "# # Acquire ARGO data  and Ensure data is on the same grids\n",
    "# w7.download_argo_data()\n",
    "\n",
    "# # Load in the two datasets\n",
    "# ERA5, ARGO = w7.load_sst_data()\n",
    "\n",
    "# # Plot mean time series over our relevant areas\n",
    "# w7.plot_mean_sst_timeseries(ERA5,ARGO)\n",
    "\n",
    "# # Plot the spatial distribution of trned in data.\n",
    "# w7.plot_spatial_sst_trends(ERA5,ARGO)\n",
    "\n",
    "# # Calculate statistics for quality of ocean data.\n",
    "# stats = w7.generate_sst_statistics(ERA5,ARGO)"
   ]
  },
  {
   "cell_type": "markdown",
   "metadata": {},
   "source": [
    "#### Validating Air Temperature with station data"
   ]
  },
  {
   "cell_type": "code",
   "execution_count": null,
   "metadata": {},
   "outputs": [],
   "source": [
    "# Load in datasets\n",
    "T2M, STT, locations = w7.load_air_temp_data()\n",
    "\n",
    "# Plot timeseries.\n",
    "w7.plot_station_timeseries(T2M, STT, locations)\n",
    "\n",
    "# # # Calculate statistics for station temperature.\n",
    "# # stats = w7.generate_station_statistics(T2M, STT)"
   ]
  },
  {
   "cell_type": "markdown",
   "metadata": {},
   "source": [
    "## 2 Predicting temperature from other variables\n",
    "\n",
    "For this we want to refer to some of the regressions calculated last week. (We will reproduce these here first). Additionally we need to acquire more data and do more regressions against other variables.\n",
    "\n",
    "### Regressions to do\n",
    "\n",
    "All of the below variables will be used to predict both SIC and T2M. SIC to confirm that these variables don't directly drive An\n",
    "\n",
    "    1) Radiation:\n",
    "        a) SW downwards  \n",
    "        b) SW net        \n",
    "        c) LW net        \n",
    "        d) LW downwards  \n",
    "        e) LW net        \n",
    "    \n",
    "    2) Stratospheric Ozone\n",
    "    \n",
    "    3) Climate Indicies\n",
    "        a) SAM\n",
    "        b) IPO\n",
    "        c) DMI, Nino 3.4, MEI v2 less important\n",
    "        \n",
    "    4) Environmental variables.\n",
    "        a) Surface pressure.\n",
    "        b) Wind speed."
   ]
  },
  {
   "cell_type": "markdown",
   "metadata": {},
   "source": [
    "### Radiation predicting SIC"
   ]
  },
  {
   "cell_type": "code",
   "execution_count": null,
   "metadata": {},
   "outputs": [],
   "source": []
  },
  {
   "cell_type": "markdown",
   "metadata": {},
   "source": [
    "### Radiation predicting 2m Temperature"
   ]
  },
  {
   "cell_type": "code",
   "execution_count": null,
   "metadata": {},
   "outputs": [],
   "source": []
  },
  {
   "cell_type": "markdown",
   "metadata": {},
   "source": [
    "### Stratospheric Ozone predicting SIC"
   ]
  },
  {
   "cell_type": "code",
   "execution_count": null,
   "metadata": {},
   "outputs": [],
   "source": []
  },
  {
   "cell_type": "markdown",
   "metadata": {},
   "source": [
    "### Stratospheric Ozone predicting 2m Temperature"
   ]
  },
  {
   "cell_type": "code",
   "execution_count": null,
   "metadata": {},
   "outputs": [],
   "source": []
  },
  {
   "cell_type": "markdown",
   "metadata": {},
   "source": [
    "### Climate Indicies predicting SIC"
   ]
  },
  {
   "cell_type": "code",
   "execution_count": null,
   "metadata": {},
   "outputs": [],
   "source": []
  },
  {
   "cell_type": "markdown",
   "metadata": {},
   "source": [
    "### Climate Indicies predicting 2m Temperature"
   ]
  },
  {
   "cell_type": "code",
   "execution_count": null,
   "metadata": {},
   "outputs": [],
   "source": []
  },
  {
   "cell_type": "markdown",
   "metadata": {},
   "source": [
    "### Environmental Variables predicting SIC"
   ]
  },
  {
   "cell_type": "code",
   "execution_count": null,
   "metadata": {},
   "outputs": [],
   "source": []
  },
  {
   "cell_type": "markdown",
   "metadata": {},
   "source": [
    "### Environmental Variables predicting 2m Temperature"
   ]
  },
  {
   "cell_type": "code",
   "execution_count": null,
   "metadata": {},
   "outputs": [],
   "source": []
  }
 ],
 "metadata": {
  "kernelspec": {
   "display_name": "Python 3",
   "language": "python",
   "name": "python3"
  },
  "language_info": {
   "codemirror_mode": {
    "name": "ipython",
    "version": 3
   },
   "file_extension": ".py",
   "mimetype": "text/x-python",
   "name": "python",
   "nbconvert_exporter": "python",
   "pygments_lexer": "ipython3",
   "version": "3.7.9"
  }
 },
 "nbformat": 4,
 "nbformat_minor": 4
}
