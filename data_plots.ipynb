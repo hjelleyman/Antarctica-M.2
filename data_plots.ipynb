{
 "cells": [
  {
   "cell_type": "code",
   "execution_count": 6,
   "metadata": {},
   "outputs": [],
   "source": [
    "import xarray as xr\n",
    "import numpy as np\n",
    "import pandas as pd\n",
    "from matplotlib import pyplot as plt\n",
    "import cartopy.crs as ccrs\n",
    "import glob\n",
    "import tqdm\n",
    "from matplotlib.colors import LinearSegmentedColormap, TwoSlopeNorm\n",
    "from matplotlib import cm\n",
    "import itertools\n",
    "import time\n",
    "import streamlit as st"
   ]
  },
  {
   "cell_type": "code",
   "execution_count": 1,
   "metadata": {},
   "outputs": [
    {
     "name": "stdout",
     "output_type": "stream",
     "text": [
      "<xarray.Dataset>\n",
      "Dimensions:  (time: 501, x: 316, y: 332)\n",
      "Coordinates:\n",
      "  * time     (time) datetime64[ns] 1979-01-01 1979-02-01 ... 2020-09-01\n",
      "  * y        (y) int32 4350000 4325000 4300000 ... -3875000 -3900000 -3925000\n",
      "  * x        (x) int32 -3950000 -3925000 -3900000 ... 3875000 3900000 3925000\n",
      "Data variables:\n",
      "    skt      (time, y, x) float64 0.0 0.0 0.0 0.0 0.0 ... nan nan nan nan nan\n",
      "    sst      (time, y, x) float64 0.0 0.0 0.0 0.0 0.0 ... nan nan nan nan nan\n",
      "    t2m      (time, y, x) float64 0.0 0.0 0.0 0.0 0.0 ... nan nan nan nan nan\n"
     ]
    }
   ],
   "source": [
    "import xarray as xr\n",
    "import numpy as np\n",
    "import pandas as pd\n",
    "from matplotlib import pyplot as plt\n",
    "import cartopy.crs as ccrs\n",
    "import glob\n",
    "import tqdm\n",
    "from matplotlib.colors import LinearSegmentedColormap, TwoSlopeNorm\n",
    "from matplotlib import cm\n",
    "import itertools\n",
    "import time\n",
    "import streamlit as st\n",
    "\n",
    "    \n",
    "    \n",
    "files = glob.glob('processed_data/*')\n",
    "variables  = ['t2m.nc', 'skt.nc', 'sst.nc']\n",
    "files = [f for f in files if '_' not in f.split('\\\\')[1] and  f.split('\\\\')[1] in variables]\n",
    "ds = xr.open_mfdataset(files, parallel=True, compat='override')\n",
    "\n",
    "ds = ds.compute()\n",
    "print(ds)"
   ]
  }
 ],
 "metadata": {
  "kernelspec": {
   "display_name": "Python 3",
   "language": "python",
   "name": "python3"
  },
  "language_info": {
   "codemirror_mode": {
    "name": "ipython",
    "version": 3
   },
   "file_extension": ".py",
   "mimetype": "text/x-python",
   "name": "python",
   "nbconvert_exporter": "python",
   "pygments_lexer": "ipython3",
   "version": "3.8.5"
  }
 },
 "nbformat": 4,
 "nbformat_minor": 4
}
