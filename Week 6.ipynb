{
 "cells": [
  {
   "cell_type": "markdown",
   "metadata": {},
   "source": [
    "# Loading new data"
   ]
  },
  {
   "cell_type": "code",
   "execution_count": null,
   "metadata": {},
   "outputs": [],
   "source": []
  },
  {
   "cell_type": "code",
   "execution_count": 1,
   "metadata": {},
   "outputs": [],
   "source": [
    "import xarray as xr\n",
    "import numpy as np\n",
    "import pandas as pd\n",
    "from modules import *\n",
    "from matplotlib import pyplot as plt\n",
    "import cartopy.crs as ccrs\n",
    "import glob\n",
    "import tqdm\n",
    "from matplotlib.colors import LinearSegmentedColormap, TwoSlopeNorm\n",
    "from matplotlib import cm\n",
    "import itertools"
   ]
  },
  {
   "cell_type": "code",
   "execution_count": 2,
   "metadata": {},
   "outputs": [],
   "source": [
    "# file = \"H:\\Github\\Antarctica-M.2\\data\\land ice\\GRCTellus.JPL.200204_202008.GLO.RL06M.MSCNv02CRI.nc\"\n",
    "# ds = xr.open_dataset(file)\n",
    "# ds"
   ]
  },
  {
   "cell_type": "code",
   "execution_count": 3,
   "metadata": {},
   "outputs": [],
   "source": [
    "# data  = ds.lwe_thickness"
   ]
  },
  {
   "cell_type": "code",
   "execution_count": 4,
   "metadata": {},
   "outputs": [],
   "source": [
    "# trend = data.polyfit(deg=1, dim='time').polyfit_coefficients.sel(degree=1).sel(lat=slice(-90,-50))\n",
    "\n",
    "# ax = plt.axes(projection=ccrs.SouthPolarStereo())\n",
    "# contour = ax.contourf(trend.lon, trend.lat, trend.values, transform=ccrs.PlateCarree(), cmap = 'RdBu')\n",
    "# plt.colorbar(contour)\n",
    "# ax.coastlines()\n",
    "# plt.show()"
   ]
  },
  {
   "cell_type": "markdown",
   "metadata": {},
   "source": [
    "# Temperature"
   ]
  },
  {
   "cell_type": "code",
   "execution_count": 5,
   "metadata": {},
   "outputs": [],
   "source": [
    "files = glob.glob('processed_data/*')\n",
    "variables  = ['t2m.nc', 'skt.nc', 'sst.nc']\n",
    "files = [f for f in files if '_' not in f.split('\\\\')[1] and  f.split('\\\\')[1] in variables]\n",
    "ds = xr.open_mfdataset(files, parallel=True, compat='override')\n",
    "\n",
    "ds = ds.compute()"
   ]
  },
  {
   "cell_type": "code",
   "execution_count": null,
   "metadata": {},
   "outputs": [],
   "source": [
    "ds = ds.sel(time=slice('1979-01-01','2019-12-31'))\n",
    "ds = (ds\n",
    "      .pipe(w5.find_anomalies)\n",
    "      .pipe(w5.yearly_average)\n",
    "#       .pipe(w5.normalise_indepenant, dependant='sic')\n",
    "     )\n",
    "ds"
   ]
  },
  {
   "cell_type": "code",
   "execution_count": null,
   "metadata": {},
   "outputs": [],
   "source": [
    "area = xr.open_dataset('data/area_files/processed_nsidc.nc').area"
   ]
  },
  {
   "cell_type": "code",
   "execution_count": null,
   "metadata": {},
   "outputs": [],
   "source": [
    "fig = plt.figure(figsize=(5,2.5))\n",
    "plt.axhline(0, color = 'black',alpha = 0.5, linestyle='--')\n",
    "gradient = xr.Dataset()\n",
    "for t in ds:\n",
    "    data = (ds[t]*area).mean(dim=('x','y'))/area.mean(dim=('x','y'))\n",
    "    m, b = data.polyfit(deg=1, dim='time').polyfit_coefficients \n",
    "    yfit = m*data.time.astype(float) +b\n",
    "    plot = plt.plot(data.time, data,label = t)\n",
    "    plt.plot(data.time, yfit, color = plot[0].get_color())\n",
    "plt.legend(bbox_to_anchor=(0.99, -0.15), ncol = 3, loc = 'upper right')\n",
    "plt.title('Mean Antarctic Temperature')\n",
    "plt.ylabel('Temperature Anomaly [$\\degree C$]')\n",
    "plt.savefig('images/week6/TemperatureTimeseries.png', bbox_inches='tight')\n",
    "plt.show()"
   ]
  },
  {
   "cell_type": "code",
   "execution_count": null,
   "metadata": {},
   "outputs": [],
   "source": [
    "fig = plt.figure(figsize=(5,2.5))\n",
    "plt.axhline(0, color = 'black',alpha = 0.5, linestyle='--')\n",
    "gradient = xr.Dataset()\n",
    "dscopy = ds.stack(z=('x','y')).dropna(dim='z').unstack().copy()\n",
    "for t in ds:\n",
    "    data = (dscopy[t]*area).mean(dim=('x','y'))/area.mean(dim=('x','y'))\n",
    "    m, b = data.polyfit(deg=1, dim='time').polyfit_coefficients \n",
    "    yfit = m*data.time.astype(float) +b\n",
    "    plot = plt.plot(data.time, data,label = t)\n",
    "    plt.plot(data.time, yfit, color = plot[0].get_color())\n",
    "plt.legend(bbox_to_anchor=(0.99, -0.15), ncol = 3, loc = 'upper right')\n",
    "plt.title('Mean Antarctic Temperature')\n",
    "plt.ylabel('Temperature Anomaly [$\\degree C$]')\n",
    "plt.savefig('images/week6/TemperatureTimeseries_filtered.pdf', bbox_inches='tight')\n",
    "plt.show()"
   ]
  },
  {
   "cell_type": "code",
   "execution_count": null,
   "metadata": {},
   "outputs": [],
   "source": [
    "fig = plt.figure(figsize=(5,2.5))\n",
    "\n",
    "gradient = xr.Dataset()\n",
    "for t in ds:\n",
    "    gradient[t] = ds[t].polyfit(deg=1, dim='time').polyfit_coefficients.sel(degree=1)* 1e9*60*60*24*365\n",
    "\n",
    "max_ = max([gradient[indexname].max() for indexname in gradient])\n",
    "min_ = min([gradient[indexname].min() for indexname in gradient])\n",
    "\n",
    "max_ = max(max_,-min_)\n",
    "min_ = -max_\n",
    "\n",
    "if max_>min_ and max_>0 and min_<0:\n",
    "    divnorm = TwoSlopeNorm(vmin=min_, vcenter=0, vmax=max_)\n",
    "else:\n",
    "    sys.exit(f'min = {min_.values}, max = {max_.values}, {variables}')\n",
    "i=0\n",
    "for t in ds:\n",
    "    ax = fig.add_subplot(1,3,i+1, projection = ccrs.SouthPolarStereo())\n",
    "    data = gradient[t]\n",
    "    contour = ax.contourf(data.x, data.y, data, cmap='RdBu_r', norm=divnorm)\n",
    "    ax.set_title(t)\n",
    "    ax.coastlines()\n",
    "    i +=1\n",
    "fig.subplots_adjust(right=0.95)\n",
    "cbar_ax = fig.add_axes([0.96, 0.15, 0.02, 0.7])\n",
    "cbar = fig.colorbar(cm.ScalarMappable(norm=divnorm, cmap='RdBu_r'), cax=cbar_ax, shrink=0.88)\n",
    "cbar.set_label('Trend in Temperature [$\\degree C\\ yr^{-1}$]')\n",
    "plt.suptitle('Mean Antarctic Temperature Trends')\n",
    "plt.savefig('images/week6/Temperature_Trends.pdf', bbox_inches='tight')\n",
    "plt.show()"
   ]
  },
  {
   "cell_type": "code",
   "execution_count": null,
   "metadata": {},
   "outputs": [],
   "source": [
    "v = [v for v in ds]\n",
    "\n",
    "correlation_matrix = pd.DataFrame(index=v,columns=v, dtype=np.float64)\n",
    "for v1,v2 in tqdm.tqdm(list(itertools.product(v,v))):\n",
    "    vec1 = ds[v1]\n",
    "    vec2 = ds[v2]\n",
    "    correlation_matrix.loc[v1,v2]=xr.corr(vec1,vec2).values\n",
    "    \n",
    "def fmt(val):\n",
    "    sig_level=0.9\n",
    "    if val > sig_level or val < -sig_level:\n",
    "        return f'\\\\textbf{{{val:.3f}}}'\n",
    "    else:\n",
    "        return f'{{{val:.3f}}}'\n",
    "\n",
    "pd.set_option('display.float_format', fmt)\n",
    "correlation_matrix.index = [f'\\\\textbf{{{ind.upper()}}}' for ind in correlation_matrix.index]\n",
    "correlation_matrix.columns = [f'\\\\textbf{{{ind.upper()}}}' for ind in correlation_matrix.columns]\n",
    "correlation_matrix.to_latex('images/week6/temperature_correlations.tex', escape=False)\n",
    "correlation_matrix"
   ]
  },
  {
   "cell_type": "markdown",
   "metadata": {},
   "source": [
    "# Regressing Temperature onto Sea Ice"
   ]
  },
  {
   "cell_type": "code",
   "execution_count": null,
   "metadata": {},
   "outputs": [],
   "source": [
    "for ind in [\n",
    "#             ['sst'],['skt'],['t2m'],\n",
    "#             ['sst','t2m'], ['t2m','skt'], ['skt','sst'],\n",
    "            ['sst', 't2m','skt']]:\n",
    "    files = glob.glob('processed_data/*')\n",
    "    files = [f for f in files if '_' not in f.split('\\\\')[1]]\n",
    "    ds = xr.open_mfdataset(files, parallel=True, compat='override')\n",
    "\n",
    "    dependant = 'sic'\n",
    "    independant = ind\n",
    "    ds = ds[independant + [dependant]]\n",
    "\n",
    "    ds = ds.sel(time=slice('1979-01-01','2019-12-31'))\n",
    "    ds = (ds\n",
    "          .pipe(w5.find_anomalies)\n",
    "          .pipe(w5.yearly_average)\n",
    "          .pipe(w5.normalise_indepenant, dependant='sic')\n",
    "         ).compute()\n",
    "\n",
    "    print(ds)\n",
    "\n",
    "    regression_results = w5.multiple_fast_regression(ds, dependant, independant)\n",
    "    w5.plotting(regression_results, dependant, independant, folder='week6')\n",
    "    w5.more_plotting(regression_results, dependant, independant, folder='week6')"
   ]
  },
  {
   "cell_type": "markdown",
   "metadata": {},
   "source": [
    "# Statistics of fitting"
   ]
  },
  {
   "cell_type": "code",
   "execution_count": null,
   "metadata": {
    "scrolled": true
   },
   "outputs": [],
   "source": [
    "independant_options = [['sst'],['skt'],['t2m'],\n",
    "                       ['sst','t2m'], ['t2m','skt'], ['skt','sst'],\n",
    "                       ['sst', 't2m','skt']]\n",
    "\n",
    "cols = ['Spatial correlation', 'Temporal correlation', 'Predicted trend', 'Actual trend',\n",
    "       ]\n",
    "Statistics = pd.DataFrame(index=[' '.join(ind) for ind in independant_options], columns = cols)\n",
    "for ind in independant_options:\n",
    "    files = glob.glob('processed_data/*')\n",
    "    files = [f for f in files if '_' not in f.split('\\\\')[1]]\n",
    "    ds = xr.open_mfdataset(files, parallel=True, compat='override')\n",
    "\n",
    "    dependant = 'sic'\n",
    "    independant = ind\n",
    "    ds = ds[independant + [dependant]]\n",
    "\n",
    "    ds = ds.sel(time=slice('1979-01-01','2019-12-31'))\n",
    "    ds = (ds\n",
    "          .pipe(w5.find_anomalies)\n",
    "          .pipe(w5.yearly_average)\n",
    "          .pipe(w5.normalise_indepenant, dependant='sic')\n",
    "         ).compute()\n",
    "\n",
    "    print(ds)\n",
    "\n",
    "    regression_results = w5.multiple_fast_regression(ds, dependant, independant)\n",
    "#     w5.plotting(regression_results, dependant, independant, folder='week6')\n",
    "#     w5.more_plotting(regression_results, dependant, independant, folder='week6')\n",
    "    stats = w4._get_stats(regression_results, 'sic' ,independant)\n",
    "    stats.name = 'Quality of Regression'\n",
    "    stats.index = [col.replace('_', ' ').capitalize() for col in stats.index]\n",
    "    Statistics.loc[' '.join(ind),stats.index] = stats.values\n",
    "    print(Statistics)\n",
    "Statistics"
   ]
  },
  {
   "cell_type": "code",
   "execution_count": null,
   "metadata": {},
   "outputs": [],
   "source": [
    "Statistics.to_latex('images\\week6\\statistics.tex',  escape=False, column_format='l'*(len(results.index)+1))"
   ]
  },
  {
   "cell_type": "markdown",
   "metadata": {},
   "source": [
    "# Adding in other variables"
   ]
  },
  {
   "cell_type": "code",
   "execution_count": null,
   "metadata": {
    "scrolled": true
   },
   "outputs": [],
   "source": [
    "independant_options = [\n",
    "                       ['v10'],['u10'],['sp'],['ssr'],\n",
    "                       ['v10','u10','sp','ssr'],\n",
    "                       ['sst', 't2m','skt','v10','u10','sp','ssr']\n",
    "                      ]\n",
    "\n",
    "cols = ['Spatial correlation', 'Temporal correlation', 'Predicted trend', 'Actual trend',\n",
    "       ]\n",
    "Statistics = pd.DataFrame(index=[' '.join(ind) for ind in independant_options], columns = cols)\n",
    "for ind in independant_options:\n",
    "    files = glob.glob('processed_data/*')\n",
    "    files = [f for f in files if '_' not in f.split('\\\\')[1]]\n",
    "    ds = xr.open_mfdataset(files, parallel=True, compat='override')\n",
    "\n",
    "    dependant = 'sic'\n",
    "    independant = ind\n",
    "    ds = ds[independant + [dependant]]\n",
    "\n",
    "    ds = ds.sel(time=slice('1979-01-01','2019-12-31'))\n",
    "    ds = (ds\n",
    "          .pipe(w5.find_anomalies)\n",
    "          .pipe(w5.yearly_average)\n",
    "          .pipe(w5.normalise_indepenant, dependant='sic')\n",
    "         ).compute()\n",
    "\n",
    "    print(ds)\n",
    "\n",
    "    regression_results = w5.multiple_fast_regression(ds, dependant, independant)\n",
    "#     w5.plotting(regression_results, dependant, independant, folder='week6')\n",
    "#     w5.more_plotting(regression_results, dependant, independant, folder='week6')\n",
    "    stats = w4._get_stats(regression_results, 'sic' ,independant)\n",
    "    stats.name = 'Quality of Regression'\n",
    "    stats.index = [col.replace('_', ' ').capitalize() for col in stats.index]\n",
    "    Statistics.loc[' '.join(ind),stats.index] = stats.values\n",
    "#     print(Statistics)"
   ]
  },
  {
   "cell_type": "code",
   "execution_count": null,
   "metadata": {
    "scrolled": true
   },
   "outputs": [],
   "source": [
    "Statistics.to_latex('images\\week6\\statistics_1.tex',  escape=False, column_format='l'*(len(Statistics.columns)+1))\n",
    "Statistics"
   ]
  },
  {
   "cell_type": "code",
   "execution_count": null,
   "metadata": {
    "scrolled": true
   },
   "outputs": [],
   "source": [
    "independant_options = [\n",
    "                       ['v10'],['u10'],['sp'],['ssr'],\n",
    "                       ['v10','u10','sp','ssr'],\n",
    "                      ]\n",
    "\n",
    "cols = ['Spatial correlation', 'Temporal correlation', 'Predicted trend', 'Actual trend',\n",
    "       ]\n",
    "Statistics = pd.DataFrame(index=[' '.join(ind) for ind in independant_options], columns = cols)\n",
    "for ind in independant_options:\n",
    "    files = glob.glob('processed_data/*')\n",
    "    files = [f for f in files if '_' not in f.split('\\\\')[1]]\n",
    "    ds = xr.open_mfdataset(files, parallel=True, compat='override')\n",
    "\n",
    "    dependant = 't2m'\n",
    "    independant = ind\n",
    "    ds = ds[independant + [dependant]]\n",
    "\n",
    "    ds = ds.sel(time=slice('1979-01-01','2019-12-31'))\n",
    "    ds = (ds\n",
    "          .pipe(w5.find_anomalies)\n",
    "          .pipe(w5.yearly_average)\n",
    "          .pipe(w5.normalise_indepenant, dependant='t2m')\n",
    "         ).compute()\n",
    "\n",
    "    print(ds)\n",
    "\n",
    "    regression_results = w5.multiple_fast_regression(ds, dependant, independant)\n",
    "#     w5.plotting(regression_results, dependant, independant, folder='week6')\n",
    "#     w5.more_plotting(regression_results, dependant, independant, folder='week6')\n",
    "    stats = w4._get_stats(regression_results, 't2m' ,independant)\n",
    "    stats.name = 'Quality of Regression'\n",
    "    stats.index = [col.replace('_', ' ').capitalize() for col in stats.index]\n",
    "    Statistics.loc[' '.join(ind),stats.index] = stats.values\n",
    "#     print(Statistics)\n",
    "Statistics.to_latex('images\\week6\\statistics_2.tex',  escape=False, column_format='l'*(len(Statistics.index)+1))\n",
    "Statistics"
   ]
  }
 ],
 "metadata": {
  "kernelspec": {
   "display_name": "Python 3",
   "language": "python",
   "name": "python3"
  },
  "language_info": {
   "codemirror_mode": {
    "name": "ipython",
    "version": 3
   },
   "file_extension": ".py",
   "mimetype": "text/x-python",
   "name": "python",
   "nbconvert_exporter": "python",
   "pygments_lexer": "ipython3",
   "version": "3.7.9"
  }
 },
 "nbformat": 4,
 "nbformat_minor": 4
}
