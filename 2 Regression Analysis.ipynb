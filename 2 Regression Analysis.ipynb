{
 "cells": [
  {
   "cell_type": "markdown",
   "metadata": {},
   "source": [
    "# Regression analysis\n",
    "\n"
   ]
  },
  {
   "cell_type": "code",
   "execution_count": null,
   "metadata": {},
   "outputs": [],
   "source": [
    "import xarray as xr\n",
    "import pandas as pd\n",
    "import numpy as np\n",
    "from tqdm import tqdm\n",
    "import itertools\n",
    "from matplotlib import pyplot as plt\n",
    "import glob\n",
    "import scipy\n",
    "from modules import *\n",
    "\n",
    "%load_ext autoreload\n",
    "%autoreload 2"
   ]
  },
  {
   "cell_type": "markdown",
   "metadata": {},
   "source": [
    "# Preprocessing\n",
    "\n",
    "We want to apply the following to the data:\n",
    "\n",
    "    1) Find the anomalies\n",
    "    2) Get the annual average\n",
    "    3) Normalise the indepenant variables"
   ]
  },
  {
   "cell_type": "code",
   "execution_count": null,
   "metadata": {},
   "outputs": [],
   "source": [
    "files = glob.glob('processed_data/*')\n",
    "files = [f for f in files if '_' not in f.split('\\\\')[1]]\n",
    "ds = xr.open_mfdataset(files)"
   ]
  },
  {
   "cell_type": "code",
   "execution_count": null,
   "metadata": {},
   "outputs": [],
   "source": [
    "ds = (ds\n",
    "      .pipe(w5.find_anomalies)\n",
    "      .pipe(w5.yearly_average)\n",
    "      .pipe(w5.normalise_indepenant, dependant='sic')\n",
    "     ).compute()                                                                                                                                                                                                                                                                                                                                                                                                                                                                                                                                                                                                                                                                                                                                                                               \n",
    "\n",
    "ds = ds.sel(time=slice('1979-01-01','2019-12-31'))               "
   ]
  },
  {
   "cell_type": "code",
   "execution_count": null,
   "metadata": {},
   "outputs": [],
   "source": [
    "ds"
   ]
  },
  {
   "cell_type": "markdown",
   "metadata": {},
   "source": [
    "# Correlations"
   ]
  },
  {
   "cell_type": "code",
   "execution_count": null,
   "metadata": {},
   "outputs": [],
   "source": [
    "v = [v for v in ds]\n",
    "correlation_matrix = pd.DataFrame(index=v,columns=v, dtype=np.float64)\n",
    "for v1,v2 in tqdm(list(itertools.product(v,v))):\n",
    "    vec1 = ds[v1].mean(dim=('x','y'))\n",
    "    vec2 = ds[v2].mean(dim=('x','y'))\n",
    "    correlation_matrix.loc[v1,v2]=xr.corr(vec1,vec2).values\n",
    "    \n",
    "def significant_bold(val, sig_level=0.9):\n",
    "    bold = 'bold' if val > sig_level or val < -sig_level else ''\n",
    "    return 'font-weight: %s' % bold\n",
    "correlation_matrix.style.applymap(significant_bold,sig_level=0.9)"
   ]
  },
  {
   "cell_type": "code",
   "execution_count": null,
   "metadata": {},
   "outputs": [],
   "source": [
    "plt.pcolormesh(v,v,correlation_matrix.transpose())\n",
    "plt.colorbar()\n",
    "plt.show()"
   ]
  },
  {
   "cell_type": "markdown",
   "metadata": {},
   "source": [
    "# Regressions"
   ]
  },
  {
   "cell_type": "code",
   "execution_count": null,
   "metadata": {},
   "outputs": [],
   "source": [
    "x_surface = ['si10','sp', 'ssr', 'sst','t2m','u10','v10']\n",
    "\n",
    "regression_results = w4.multiple_fast_regression(ds, 'sic', x_surface)"
   ]
  },
  {
   "cell_type": "code",
   "execution_count": null,
   "metadata": {},
   "outputs": [],
   "source": [
    "regression_results"
   ]
  },
  {
   "cell_type": "code",
   "execution_count": null,
   "metadata": {},
   "outputs": [],
   "source": [
    "w5.plotting(regression_results, 'sic', x_surface)"
   ]
  },
  {
   "cell_type": "code",
   "execution_count": null,
   "metadata": {},
   "outputs": [],
   "source": [
    "w5.more_plotting(regression_results, 'sic', x_surface)"
   ]
  },
  {
   "cell_type": "code",
   "execution_count": null,
   "metadata": {},
   "outputs": [],
   "source": [
    "dependant = 'sic'\n",
    "independant = ['si10','sp', 'ssr', 'sst','t2m','u10','v10']\n",
    "w5.main(dependant, independant)"
   ]
  },
  {
   "cell_type": "code",
   "execution_count": null,
   "metadata": {},
   "outputs": [],
   "source": [
    "dependant = 't2m'\n",
    "independant = ['si10','sp', 'ssr', 'sst','u10','v10']\n",
    "w5.main(dependant, independant)"
   ]
  },
  {
   "cell_type": "code",
   "execution_count": null,
   "metadata": {},
   "outputs": [],
   "source": [
    "dependant = 'ssr'\n",
    "independant = ['si10','sp', 'sst','t2m','u10','v10']\n",
    "w5.main(dependant, independant)"
   ]
  },
  {
   "cell_type": "code",
   "execution_count": null,
   "metadata": {},
   "outputs": [],
   "source": [
    "dependant = 'sst'\n",
    "independant = ['si10','sp', 'ssr','t2m','u10','v10']\n",
    "w5.main(dependant, independant)"
   ]
  }
 ],
 "metadata": {
  "kernelspec": {
   "display_name": "Python 3",
   "language": "python",
   "name": "python3"
  },
  "language_info": {
   "codemirror_mode": {
    "name": "ipython",
    "version": 3
   },
   "file_extension": ".py",
   "mimetype": "text/x-python",
   "name": "python",
   "nbconvert_exporter": "python",
   "pygments_lexer": "ipython3",
   "version": "3.8.5"
  }
 },
 "nbformat": 4,
 "nbformat_minor": 4
}
